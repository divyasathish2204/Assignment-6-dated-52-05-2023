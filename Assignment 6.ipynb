{
 "cells": [
  {
   "cell_type": "code",
   "execution_count": 1,
   "id": "7d532c8c",
   "metadata": {},
   "outputs": [
    {
     "name": "stdout",
     "output_type": "stream",
     "text": [
      "the list of keywords are : \n",
      "['False', 'None', 'True', '__peg_parser__', 'and', 'as', 'assert', 'async', 'await', 'break', 'class', 'continue', 'def', 'del', 'elif', 'else', 'except', 'finally', 'for', 'from', 'global', 'if', 'import', 'in', 'is', 'lambda', 'nonlocal', 'not', 'or', 'pass', 'raise', 'return', 'try', 'while', 'with', 'yield']\n"
     ]
    }
   ],
   "source": [
    "# question 1\n",
    "#\"keywords are reserved words that cannot be used as a variable name,identifiers,function name\".\n",
    "\n",
    "import keyword # importing keyword for import operations\n",
    "print(\"the list of keywords are : \")\n",
    "print(keyword.kwlist)"
   ]
  },
  {
   "cell_type": "code",
   "execution_count": 2,
   "id": "81516b80",
   "metadata": {},
   "outputs": [
    {
     "ename": "SyntaxError",
     "evalue": "invalid syntax (1097691926.py, line 2)",
     "output_type": "error",
     "traceback": [
      "\u001b[1;36m  File \u001b[1;32m\"C:\\Users\\Harshitha S\\AppData\\Local\\Temp\\ipykernel_6900\\1097691926.py\"\u001b[1;36m, line \u001b[1;32m2\u001b[0m\n\u001b[1;33m    variable is a name that refers to a value.\u001b[0m\n\u001b[1;37m                  ^\u001b[0m\n\u001b[1;31mSyntaxError\u001b[0m\u001b[1;31m:\u001b[0m invalid syntax\n"
     ]
    }
   ],
   "source": [
    "# question 2\n",
    "variable is a name that refers to a value.\n",
    "1.variables name can be long\n",
    "2.they can contain both letters and digits,but they have to begin with underscore_ or a letter(a-z),may be uppercase \n",
    "and not digits\n",
    "#example\n",
    "76marks = 100 # it gives error because it should not start with digits\n",
    "marks_76 = 100 # it is valid\n",
    "True = 123 # it is not valid because python is case sensitive in some conditions(True is boolean reserved keyword)\n",
    "true = 123 # it is valid\n"
   ]
  },
  {
   "cell_type": "code",
   "execution_count": null,
   "id": "66823d25",
   "metadata": {},
   "outputs": [],
   "source": [
    "# question 3\n",
    "1.Python Naming Conventions\n",
    "Python code accepts different naming styles, but there are some recommended styles that you should follow for certain objects.\n",
    "# for example:\n",
    "b (single lowercase letter)\n",
    "B (single uppercase letter)\n",
    "lowercase and lowercase_with_underscores\n",
    "UPPERCASE and UPPERCASE_WITH_UNDERSCORES\n",
    "Capitalized Words and Capitalized_Words_With_Underscores\n",
    "mixedCase \n",
    "2.documentation # sinle line comments,multiline cpmments,doc string(\"\"\"a\"\"\")\n",
    "3.Indentation\n",
    "4.line length and line breaks(\\,+,()..)"
   ]
  },
  {
   "cell_type": "code",
   "execution_count": null,
   "id": "307295f8",
   "metadata": {},
   "outputs": [],
   "source": [
    "# question 4\n",
    "\"\"\"\n",
    "class is a python keyword.keywords define the language's syntax rules and structure,\n",
    "and they cannot be used as variable names \n",
    "python has 36 keywords\n",
    "\"\"\"\n",
    "# for example\n",
    "#class = 2 # class is a reserved keyword\n",
    "#print(\"class\") # invalid syntax\n",
    "Class = 2\n",
    "print(Class) # output is 2"
   ]
  },
  {
   "cell_type": "code",
   "execution_count": null,
   "id": "8a794aa1",
   "metadata": {},
   "outputs": [],
   "source": [
    "# question 5\n",
    "def is a python reserved keyword used to create/define a function.\n",
    "The syntax is \n",
    "def <function name>(<parameters>):\n",
    "    <statements>   "
   ]
  },
  {
   "cell_type": "code",
   "execution_count": 5,
   "id": "f9560b07",
   "metadata": {},
   "outputs": [
    {
     "name": "stdout",
     "output_type": "stream",
     "text": [
      "21\n"
     ]
    }
   ],
   "source": [
    "# question 6\n",
    "#the special character'\\' is a line continuation character\n",
    "#for example\n",
    "t = 1+2+3+4+\\\n",
    "    5+6\n",
    "print(t) "
   ]
  },
  {
   "cell_type": "code",
   "execution_count": null,
   "id": "b59d243a",
   "metadata": {},
   "outputs": [],
   "source": [
    "# question 7\n",
    "#1.homogeneous list\n",
    "l = [5,6,6,7,8,3,1,5]\n",
    "#2.heterogeneous set\n",
    "s = {1,2,2,\"divya\",(1,2,3),(3,4,5)}\n",
    "#3.Homogeneous tuple\n",
    "t = (5,7,3,8,11,14)\n",
    "l,s,t"
   ]
  },
  {
   "cell_type": "code",
   "execution_count": 4,
   "id": "2ea8e1e7",
   "metadata": {},
   "outputs": [
    {
     "data": {
      "text/plain": [
       "[1, 3, 4, 4, 6]"
      ]
     },
     "execution_count": 4,
     "metadata": {},
     "output_type": "execute_result"
    }
   ],
   "source": [
    "# question 8\n",
    "# list is a mutable datatypes where data in a set can be modified,created and deleted\n",
    "l = [2,3,4,6,7]\n",
    "l[0] = 1 # lists can be modified\n",
    "l\n",
    "l.insert(3,4) # new values can be inserted\n",
    "l\n",
    "l.pop(5) # remove the value using pop\n",
    "l\n"
   ]
  },
  {
   "cell_type": "code",
   "execution_count": 7,
   "id": "34a25ed5",
   "metadata": {},
   "outputs": [
    {
     "ename": "TypeError",
     "evalue": "'tuple' object does not support item assignment",
     "output_type": "error",
     "traceback": [
      "\u001b[1;31m---------------------------------------------------------------------------\u001b[0m",
      "\u001b[1;31mTypeError\u001b[0m                                 Traceback (most recent call last)",
      "\u001b[1;32m~\\AppData\\Local\\Temp\\ipykernel_13640\\1662276559.py\u001b[0m in \u001b[0;36m<module>\u001b[1;34m\u001b[0m\n\u001b[0;32m      2\u001b[0m \u001b[1;31m# tuples are immutable\u001b[0m\u001b[1;33m\u001b[0m\u001b[1;33m\u001b[0m\u001b[0m\n\u001b[0;32m      3\u001b[0m \u001b[0mt\u001b[0m \u001b[1;33m=\u001b[0m \u001b[1;33m(\u001b[0m\u001b[1;36m3\u001b[0m\u001b[1;33m,\u001b[0m\u001b[1;36m5\u001b[0m\u001b[1;33m,\u001b[0m\u001b[1;36m6\u001b[0m\u001b[1;33m,\u001b[0m\u001b[1;36m7\u001b[0m\u001b[1;33m,\u001b[0m\u001b[1;36m8\u001b[0m\u001b[1;33m,\u001b[0m\u001b[1;36m9\u001b[0m\u001b[1;33m,\u001b[0m\u001b[1;36m9\u001b[0m\u001b[1;33m)\u001b[0m\u001b[1;33m\u001b[0m\u001b[1;33m\u001b[0m\u001b[0m\n\u001b[1;32m----> 4\u001b[1;33m \u001b[0mt\u001b[0m\u001b[1;33m[\u001b[0m\u001b[1;36m0\u001b[0m\u001b[1;33m]\u001b[0m \u001b[1;33m=\u001b[0m \u001b[1;36m2\u001b[0m \u001b[1;31m# tuple object doesn't support item assignment\u001b[0m\u001b[1;33m\u001b[0m\u001b[1;33m\u001b[0m\u001b[0m\n\u001b[0m\u001b[0;32m      5\u001b[0m \u001b[0mt\u001b[0m\u001b[1;33m.\u001b[0m\u001b[0minsert\u001b[0m\u001b[1;33m(\u001b[0m\u001b[1;36m4\u001b[0m\u001b[1;33m)\u001b[0m\u001b[1;33m\u001b[0m\u001b[1;33m\u001b[0m\u001b[0m\n\u001b[0;32m      6\u001b[0m \u001b[0mt\u001b[0m\u001b[1;33m\u001b[0m\u001b[1;33m\u001b[0m\u001b[0m\n",
      "\u001b[1;31mTypeError\u001b[0m: 'tuple' object does not support item assignment"
     ]
    }
   ],
   "source": [
    "# question 8 continuation\n",
    "# tuples are immutable\n",
    "t = (3,5,6,7,8,9,9)\n",
    "t[0] = 2 # tuple object doesn't support item assignment\n",
    "t.insert(4)\n",
    "t"
   ]
  },
  {
   "cell_type": "code",
   "execution_count": 6,
   "id": "51fb1a8d",
   "metadata": {},
   "outputs": [
    {
     "name": "stdout",
     "output_type": "stream",
     "text": [
      "    *\n",
      "   ***\n",
      "  *****\n",
      " *******\n",
      "*********\n"
     ]
    }
   ],
   "source": [
    "# question 9\n",
    "# pyramid pattern has an odd number of stars(1,3,5,7...)\n",
    "n = 5\n",
    "for i in range(1,n+1):      # external loop to create no of rows\n",
    "    for j in range(n-i):    #internal loop to print spaces equal to no of rows(n)-i\n",
    "        print(' ',end='')   \n",
    "    for k in range(2*i-1):  #internal loop to print stars for odd num(2*i-1)\n",
    "        print('*',end='')\n",
    "    print()"
   ]
  },
  {
   "cell_type": "code",
   "execution_count": 6,
   "id": "f8869716",
   "metadata": {
    "scrolled": true
   },
   "outputs": [
    {
     "name": "stdout",
     "output_type": "stream",
     "text": [
      "enter no of rows : 5\n",
      "!!!!!!!!!\n",
      " !!!!!!!\n",
      "  !!!!!\n",
      "   !!!\n",
      "    !\n"
     ]
    }
   ],
   "source": [
    "#question 10\n",
    "n = int(input(\"enter no of rows : \"))\n",
    "i = n\n",
    "while i >= 1:\n",
    "    j = n-i\n",
    "    print(\" \"*j,end='') # prints spaces before ! is printed\n",
    "    k = 2*i-1           # prints 2*i-1 astericks in each row\n",
    "    print(\"!\" *k,end='')\n",
    "    print()\n",
    "    i -= 1   "
   ]
  }
 ],
 "metadata": {
  "kernelspec": {
   "display_name": "Python 3 (ipykernel)",
   "language": "python",
   "name": "python3"
  },
  "language_info": {
   "codemirror_mode": {
    "name": "ipython",
    "version": 3
   },
   "file_extension": ".py",
   "mimetype": "text/x-python",
   "name": "python",
   "nbconvert_exporter": "python",
   "pygments_lexer": "ipython3",
   "version": "3.9.13"
  }
 },
 "nbformat": 4,
 "nbformat_minor": 5
}
